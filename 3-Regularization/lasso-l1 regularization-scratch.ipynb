{
 "cells": [
  {
   "cell_type": "markdown",
   "metadata": {},
   "source": [
    "Import necessary libraries"
   ]
  },
  {
   "cell_type": "code",
   "execution_count": 5,
   "metadata": {},
   "outputs": [],
   "source": [
    "import numpy as np"
   ]
  },
  {
   "cell_type": "markdown",
   "metadata": {},
   "source": [
    "Define the Lasso Regression class"
   ]
  },
  {
   "cell_type": "code",
   "execution_count": 4,
   "metadata": {},
   "outputs": [],
   "source": [
    "class LassoRegression:\n",
    "    def __init__(self, learning_rate=0.01, iterations=1000, l1_penalty=0.1):\n",
    "        self.learning_rate = learning_rate\n",
    "        self.iterations = iterations\n",
    "        self.l1_penalty = l1_penalty\n",
    "\n",
    "    def fit(self, X, y):\n",
    "        self.m, self.n = X.shape\n",
    "        self.X = np.insert(X, 0, 1, axis=1)\n",
    "        self.y = y\n",
    "        self.theta = np.zeros(self.n + 1)\n",
    "        \n",
    "        for i in range(self.iterations):\n",
    "            self.gradient_descent()\n",
    "\n",
    "    def gradient_descent(self):\n",
    "        predictions = self.predict(self.X)\n",
    "        errors = predictions - self.y\n",
    "        \n",
    "        gradient = (1/self.m) * np.dot(self.X.T, errors)\n",
    "        self.theta[0] -= self.learning_rate * gradient[0]\n",
    "        self.theta[1:] -= self.learning_rate * (gradient[1:] + self.l1_penalty * np.sign(self.theta[1:]))\n",
    "\n",
    "    def predict(self, X):\n",
    "        return np.dot(X, self.theta)\n"
   ]
  },
  {
   "cell_type": "markdown",
   "metadata": {},
   "source": [
    "Example Usage"
   ]
  },
  {
   "cell_type": "code",
   "execution_count": 6,
   "metadata": {},
   "outputs": [
    {
     "name": "stdout",
     "output_type": "stream",
     "text": [
      "Coefficients: [-0.14347039  2.34214523  1.33891548 -2.84178851]\n",
      "Predictions: [ 1.74260672 10.38274627  2.1724463  -3.12166464  0.54053761]\n"
     ]
    }
   ],
   "source": [
    "# Generate synthetic data\n",
    "np.random.seed(0)\n",
    "X = np.random.randn(100, 3)\n",
    "y = 2.5 * X[:, 0] + 1.5 * X[:, 1] - 3.0 * X[:, 2] + np.random.randn(100)\n",
    "\n",
    "# Create and fit the model\n",
    "model = LassoRegression(learning_rate=0.01, iterations=1000, l1_penalty=0.1)\n",
    "model.fit(X, y)\n",
    "\n",
    "# Make predictions\n",
    "predictions = model.predict(np.insert(X, 0, 1, axis=1))\n",
    "\n",
    "print(\"Coefficients:\", model.theta)\n",
    "print(\"Predictions:\", predictions[:5])\n"
   ]
  },
  {
   "cell_type": "code",
   "execution_count": null,
   "metadata": {},
   "outputs": [],
   "source": []
  },
  {
   "cell_type": "markdown",
   "metadata": {},
   "source": []
  }
 ],
 "metadata": {
  "kernelspec": {
   "display_name": "env",
   "language": "python",
   "name": "python3"
  },
  "language_info": {
   "codemirror_mode": {
    "name": "ipython",
    "version": 3
   },
   "file_extension": ".py",
   "mimetype": "text/x-python",
   "name": "python",
   "nbconvert_exporter": "python",
   "pygments_lexer": "ipython3",
   "version": "3.12.3"
  }
 },
 "nbformat": 4,
 "nbformat_minor": 2
}
