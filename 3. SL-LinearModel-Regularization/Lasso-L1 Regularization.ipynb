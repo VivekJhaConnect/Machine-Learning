{
 "cells": [
  {
   "cell_type": "code",
   "execution_count": null,
   "metadata": {},
   "outputs": [],
   "source": [
    "import numpy as np"
   ]
  },
  {
   "cell_type": "code",
   "execution_count": null,
   "metadata": {},
   "outputs": [],
   "source": [
    "class LassoRegression:\n",
    "    def __init__(self, learning_rate=0.01, iterations=1000, l1_penalty=0.1):\n",
    "        self.learning_rate = learning_rate\n",
    "        self.iterations = iterations\n",
    "        self.l1_penalty = l1_penalty\n",
    "\n",
    "    def fit(self, X, y):\n",
    "        self.m, self.n = X.shape\n",
    "        self.X = np.insert(X, 0, 1, axis=1)\n",
    "        self.y = y\n",
    "        self.theta = np.zeros(self.n + 1)\n",
    "        \n",
    "        for i in range(self.iterations):\n",
    "            self.gradient_descent()\n",
    "\n",
    "    def gradient_descent(self):\n",
    "        predictions = self.predict(self.X)\n",
    "        errors = predictions - self.y\n",
    "        \n",
    "        gradient = (1/self.m) * np.dot(self.X.T, errors)\n",
    "        self.theta[0] -= self.learning_rate * gradient[0]\n",
    "        self.theta[1:] -= self.learning_rate * (gradient[1:] + self.l1_penalty * np.sign(self.theta[1:]))\n",
    "\n",
    "    def predict(self, X):\n",
    "        return np.dot(X, self.theta)\n"
   ]
  },
  {
   "cell_type": "code",
   "execution_count": null,
   "metadata": {},
   "outputs": [],
   "source": [
    "# Generate synthetic data\n",
    "np.random.seed(0)\n",
    "X = np.random.randn(100, 3)\n",
    "y = 2.5 * X[:, 0] + 1.5 * X[:, 1] - 3.0 * X[:, 2] + np.random.randn(100)\n",
    "\n",
    "# Create and fit the model\n",
    "model = LassoRegression(learning_rate=0.01, iterations=1000, l1_penalty=0.1)\n",
    "model.fit(X, y)\n",
    "\n",
    "# Make predictions\n",
    "predictions = model.predict(np.insert(X, 0, 1, axis=1))\n",
    "\n",
    "print(\"Coefficients:\", model.theta)\n",
    "print(\"Predictions:\", predictions[:5])\n"
   ]
  }
 ],
 "metadata": {
  "language_info": {
   "name": "python"
  }
 },
 "nbformat": 4,
 "nbformat_minor": 2
}
