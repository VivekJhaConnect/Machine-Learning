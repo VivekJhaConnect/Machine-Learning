{
 "cells": [
  {
   "cell_type": "code",
   "execution_count": 2,
   "metadata": {},
   "outputs": [],
   "source": [
    "import numpy as np"
   ]
  },
  {
   "cell_type": "code",
   "execution_count": 3,
   "metadata": {},
   "outputs": [],
   "source": [
    "class ElasticNet:\n",
    "    def __init__(self, alpha=1.0, l1_ratio=0.5, learning_rate=0.01, iterations=1000):\n",
    "        self.alpha = alpha\n",
    "        self.l1_ratio = l1_ratio\n",
    "        self.learning_rate = learning_rate\n",
    "        self.iterations = iterations\n",
    "    \n",
    "    def fit(self, X, y):\n",
    "        # Initialize weights\n",
    "        self.m, self.n = X.shape\n",
    "        self.W = np.zeros(self.n)\n",
    "        self.b = 0\n",
    "        self.X = X\n",
    "        self.y = y\n",
    "        \n",
    "        # Gradient Descent\n",
    "        for i in range(self.iterations):\n",
    "            self.update_weights()\n",
    "    \n",
    "    def update_weights(self):\n",
    "        y_pred = self.predict(self.X)\n",
    "        \n",
    "        # Calculate gradients\n",
    "        dW = (-2 * (self.X.T).dot(self.y - y_pred) + \n",
    "              self.alpha * self.l1_ratio * np.sign(self.W) + \n",
    "              self.alpha * (1 - self.l1_ratio) * self.W) / self.m\n",
    "        db = -2 * np.sum(self.y - y_pred) / self.m\n",
    "        \n",
    "        # Update weights\n",
    "        self.W = self.W - self.learning_rate * dW\n",
    "        self.b = self.b - self.learning_rate * db\n",
    "    \n",
    "    def predict(self, X):\n",
    "        return X.dot(self.W) + self.b\n"
   ]
  },
  {
   "cell_type": "code",
   "execution_count": 4,
   "metadata": {},
   "outputs": [
    {
     "name": "stdout",
     "output_type": "stream",
     "text": [
      "[3.02157013 5.00809334 6.99461656 8.98113977]\n"
     ]
    }
   ],
   "source": [
    "# Example usage:\n",
    "if __name__ == \"__main__\":\n",
    "    # Sample data\n",
    "    X = np.array([[1, 2], [2, 3], [3, 4], [4, 5]])\n",
    "    y = np.array([3, 5, 7, 9])\n",
    "    \n",
    "    # Initialize Elastic Net model\n",
    "    model = ElasticNet(alpha=0.1, l1_ratio=0.7, learning_rate=0.01, iterations=1000)\n",
    "    \n",
    "    # Fit the model\n",
    "    model.fit(X, y)\n",
    "    \n",
    "    # Make predictions\n",
    "    predictions = model.predict(X)\n",
    "    print(predictions)\n"
   ]
  },
  {
   "cell_type": "code",
   "execution_count": null,
   "metadata": {},
   "outputs": [],
   "source": []
  }
 ],
 "metadata": {
  "kernelspec": {
   "display_name": "env",
   "language": "python",
   "name": "python3"
  },
  "language_info": {
   "codemirror_mode": {
    "name": "ipython",
    "version": 3
   },
   "file_extension": ".py",
   "mimetype": "text/x-python",
   "name": "python",
   "nbconvert_exporter": "python",
   "pygments_lexer": "ipython3",
   "version": "3.12.3"
  }
 },
 "nbformat": 4,
 "nbformat_minor": 2
}
