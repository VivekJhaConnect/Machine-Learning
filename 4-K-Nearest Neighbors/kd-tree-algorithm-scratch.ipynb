{
 "cells": [
  {
   "cell_type": "code",
   "execution_count": 1,
   "metadata": {},
   "outputs": [],
   "source": [
    "import numpy as np"
   ]
  },
  {
   "cell_type": "code",
   "execution_count": 2,
   "metadata": {},
   "outputs": [],
   "source": [
    "class KDTree:\n",
    "    def __init__(self, data, depth=0):\n",
    "        self.depth = depth\n",
    "        self.axis = depth % data.shape[1]\n",
    "        self.data = data\n",
    "        \n",
    "        if len(data) <= 1:\n",
    "            self.median = data\n",
    "            self.left = None\n",
    "            self.right = None\n",
    "        else:\n",
    "            data = data[data[:, self.axis].argsort()]\n",
    "            median_idx = len(data) // 2\n",
    "            self.median = data[median_idx]\n",
    "            self.left = KDTree(data[:median_idx], depth + 1)\n",
    "            self.right = KDTree(data[median_idx + 1:], depth + 1)\n",
    "    \n",
    "    def query(self, point, k=1):\n",
    "        best = []\n",
    "        self._query(point, k, best)\n",
    "        return [b[1] for b in sorted(best)[:k]]\n",
    "    \n",
    "    def _query(self, point, k, best):\n",
    "        if self.median is not None:\n",
    "            dist = np.linalg.norm(self.median - point)\n",
    "            best.append((dist, self.median))\n",
    "            best.sort()\n",
    "        \n",
    "        if len(best) > k:\n",
    "            best = best[:k]\n",
    "        \n",
    "        if self.left is None and self.right is None:\n",
    "            return\n",
    "        \n",
    "        axis_dist = point[self.axis] - self.median[self.axis]\n",
    "        \n",
    "        if axis_dist <= 0:\n",
    "            if self.left is not None:\n",
    "                self.left._query(point, k, best)\n",
    "            if self.right is not None and (len(best) < k or abs(axis_dist) < best[-1][0]):\n",
    "                self.right._query(point, k, best)\n",
    "        else:\n",
    "            if self.right is not None:\n",
    "                self.right._query(point, k, best)\n",
    "            if self.left is not None and (len(best) < k or abs(axis_dist) < best[-1][0]):\n",
    "                self.left._query(point, k, best)\n"
   ]
  },
  {
   "cell_type": "code",
   "execution_count": 3,
   "metadata": {},
   "outputs": [
    {
     "name": "stdout",
     "output_type": "stream",
     "text": [
      "[array([0.36198613, 0.46734936, 0.44116492]), array([0.58717493, 0.5778671 , 0.63990788]), array([0.5833976 , 0.74674175, 0.73618636])]\n"
     ]
    }
   ],
   "source": [
    "# Example usage\n",
    "data = np.random.random((100, 3))\n",
    "kd_tree = KDTree(data)\n",
    "print(kd_tree.query(np.array([0.5, 0.5, 0.5]), k=3))\n"
   ]
  },
  {
   "cell_type": "code",
   "execution_count": null,
   "metadata": {},
   "outputs": [],
   "source": []
  }
 ],
 "metadata": {
  "kernelspec": {
   "display_name": "env",
   "language": "python",
   "name": "python3"
  },
  "language_info": {
   "codemirror_mode": {
    "name": "ipython",
    "version": 3
   },
   "file_extension": ".py",
   "mimetype": "text/x-python",
   "name": "python",
   "nbconvert_exporter": "python",
   "pygments_lexer": "ipython3",
   "version": "3.12.3"
  }
 },
 "nbformat": 4,
 "nbformat_minor": 2
}
