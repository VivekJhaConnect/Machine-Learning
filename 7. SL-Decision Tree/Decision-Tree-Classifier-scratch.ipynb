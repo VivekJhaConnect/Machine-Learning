{
 "cells": [
  {
   "cell_type": "markdown",
   "metadata": {},
   "source": [
    "#### Define the Tree Structure"
   ]
  },
  {
   "cell_type": "code",
   "execution_count": null,
   "metadata": {},
   "outputs": [],
   "source": [
    "class Node:\n",
    "    def __init__(self, gini, num_samples, num_samples_per_class, predicted_class):\n",
    "        self.gini = gini\n",
    "        self.num_samples = num_samples\n",
    "        self.num_samples_per_class = num_samples_per_class\n",
    "        self.predicted_class = predicted_class\n",
    "        self.feature_index = 0\n",
    "        self.threshold = 0\n",
    "        self.left = None\n",
    "        self.right = None\n"
   ]
  },
  {
   "cell_type": "markdown",
   "metadata": {},
   "source": [
    "#### Gini Impurity Calculation"
   ]
  },
  {
   "cell_type": "code",
   "execution_count": null,
   "metadata": {},
   "outputs": [],
   "source": [
    "def gini_impurity(y):\n",
    "    m = len(y)\n",
    "    return 1.0 - sum((np.sum(y == c) / m) ** 2 for c in np.unique(y))\n"
   ]
  },
  {
   "cell_type": "markdown",
   "metadata": {},
   "source": [
    "#### Split the Dataset"
   ]
  },
  {
   "cell_type": "code",
   "execution_count": null,
   "metadata": {},
   "outputs": [],
   "source": [
    "def split_dataset(X, y, index, threshold):\n",
    "    left_mask = X[:, index] < threshold\n",
    "    right_mask = X[:, index] >= threshold\n",
    "    return X[left_mask], X[right_mask], y[left_mask], y[right_mask]\n"
   ]
  },
  {
   "cell_type": "markdown",
   "metadata": {},
   "source": [
    "#### Find the Best Split"
   ]
  },
  {
   "cell_type": "code",
   "execution_count": null,
   "metadata": {},
   "outputs": [],
   "source": [
    "def best_split(X, y):\n",
    "    m, n = X.shape\n",
    "    if m <= 1:\n",
    "        return None, None\n",
    "\n",
    "    num_parent = [np.sum(y == c) for c in np.unique(y)]\n",
    "    best_gini = 1.0 - sum((num / m) ** 2 for num in num_parent)\n",
    "    best_index, best_threshold = None, None\n",
    "\n",
    "    for index in range(n):\n",
    "        thresholds, classes = zip(*sorted(zip(X[:, index], y)))\n",
    "        num_left = [0] * len(np.unique(y))\n",
    "        num_right = num_parent.copy()\n",
    "\n",
    "        for i in range(1, m):\n",
    "            c = classes[i - 1]\n",
    "            num_left[c] += 1\n",
    "            num_right[c] -= 1\n",
    "            gini_left = 1.0 - sum((num_left[x] / i) ** 2 for x in np.unique(y))\n",
    "            gini_right = 1.0 - sum((num_right[x] / (m - i)) ** 2 for x in np.unique(y))\n",
    "\n",
    "            gini = (i * gini_left + (m - i) * gini_right) / m\n",
    "\n",
    "            if thresholds[i] == thresholds[i - 1]:\n",
    "                continue\n",
    "\n",
    "            if gini < best_gini:\n",
    "                best_gini = gini\n",
    "                best_index = index\n",
    "                best_threshold = (thresholds[i] + thresholds[i - 1]) / 2\n",
    "\n",
    "    return best_index, best_threshold\n"
   ]
  },
  {
   "cell_type": "markdown",
   "metadata": {},
   "source": [
    "#### Build the Tree"
   ]
  },
  {
   "cell_type": "code",
   "execution_count": null,
   "metadata": {},
   "outputs": [],
   "source": [
    "def build_tree(X, y, depth=0, max_depth=10):\n",
    "    num_samples_per_class = [np.sum(y == i) for i in np.unique(y)]\n",
    "    predicted_class = np.argmax(num_samples_per_class)\n",
    "    node = Node(\n",
    "        gini=gini_impurity(y),\n",
    "        num_samples=len(y),\n",
    "        num_samples_per_class=num_samples_per_class,\n",
    "        predicted_class=predicted_class,\n",
    "    )\n",
    "\n",
    "    if depth < max_depth:\n",
    "        index, threshold = best_split(X, y)\n",
    "        if index is not None:\n",
    "            X_left, X_right, y_left, y_right = split_dataset(X, y, index, threshold)\n",
    "            node.feature_index = index\n",
    "            node.threshold = threshold\n",
    "            node.left = build_tree(X_left, y_left, depth + 1, max_depth)\n",
    "            node.right = build_tree(X_right, y_right, depth + 1, max_depth)\n",
    "    return node\n"
   ]
  },
  {
   "cell_type": "markdown",
   "metadata": {},
   "source": [
    "#### Prediction"
   ]
  },
  {
   "cell_type": "code",
   "execution_count": null,
   "metadata": {},
   "outputs": [],
   "source": [
    "def predict_sample(node, sample):\n",
    "    if node.left is None and node.right is None:\n",
    "        return node.predicted_class\n",
    "    if sample[node.feature_index] < node.threshold:\n",
    "        return predict_sample(node.left, sample)\n",
    "    else:\n",
    "        return predict_sample(node.right, sample)\n",
    "\n",
    "def predict(tree, X):\n",
    "    return [predict_sample(tree, sample) for sample in X]\n"
   ]
  },
  {
   "cell_type": "markdown",
   "metadata": {},
   "source": []
  }
 ],
 "metadata": {
  "language_info": {
   "name": "python"
  }
 },
 "nbformat": 4,
 "nbformat_minor": 2
}
