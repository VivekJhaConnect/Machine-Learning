{
 "cells": [
  {
   "cell_type": "markdown",
   "metadata": {},
   "source": [
    "Ball Tree: Divides space using a center and radius, suitable for high-dimensional data."
   ]
  },
  {
   "cell_type": "code",
   "execution_count": 1,
   "metadata": {},
   "outputs": [],
   "source": [
    "import numpy as np"
   ]
  },
  {
   "cell_type": "code",
   "execution_count": 2,
   "metadata": {},
   "outputs": [],
   "source": [
    "class BallTree:\n",
    "    def __init__(self, data, leaf_size=10):\n",
    "        self.leaf_size = leaf_size\n",
    "        self.root = self._build_tree(data)\n",
    "    \n",
    "    def _build_tree(self, data):\n",
    "        if len(data) <= self.leaf_size:\n",
    "            return BallTreeNode(center=np.mean(data, axis=0), radius=0, points=data)\n",
    "        \n",
    "        center = np.mean(data, axis=0)\n",
    "        distances = np.linalg.norm(data - center, axis=1)\n",
    "        radius = np.max(distances)\n",
    "        \n",
    "        median_idx = np.argsort(distances)[len(distances) // 2]\n",
    "        left_data = data[distances <= distances[median_idx]]\n",
    "        right_data = data[distances > distances[median_idx]]\n",
    "        \n",
    "        return BallTreeNode(center=center, radius=radius,\n",
    "                            left=self._build_tree(left_data),\n",
    "                            right=self._build_tree(right_data))\n",
    "    \n",
    "    def query(self, point, k=1):\n",
    "        best = []\n",
    "        self._query(self.root, point, k, best)\n",
    "        return [b[1] for b in sorted(best)[:k]]\n",
    "    \n",
    "    def _query(self, node, point, k, best):\n",
    "        if node.is_leaf():\n",
    "            for p in node.points:\n",
    "                dist = np.linalg.norm(p - point)\n",
    "                best.append((dist, p))\n",
    "            best.sort()\n",
    "            return\n",
    "        \n",
    "        dist_to_center = np.linalg.norm(node.center - point)\n",
    "        if node.left and (len(best) < k or dist_to_center - node.radius < best[-1][0]):\n",
    "            self._query(node.left, point, k, best)\n",
    "        if node.right and (len(best) < k or dist_to_center + node.radius < best[-1][0]):\n",
    "            self._query(node.right, point, k, best)\n"
   ]
  },
  {
   "cell_type": "code",
   "execution_count": 3,
   "metadata": {},
   "outputs": [],
   "source": [
    "class BallTreeNode:\n",
    "    def __init__(self, center, radius, left=None, right=None, points=None):\n",
    "        self.center = center\n",
    "        self.radius = radius\n",
    "        self.left = left\n",
    "        self.right = right\n",
    "        self.points = points\n",
    "    \n",
    "    def is_leaf(self):\n",
    "        return self.points is not None"
   ]
  },
  {
   "cell_type": "code",
   "execution_count": null,
   "metadata": {},
   "outputs": [],
   "source": []
  }
 ],
 "metadata": {
  "kernelspec": {
   "display_name": "env",
   "language": "python",
   "name": "python3"
  },
  "language_info": {
   "codemirror_mode": {
    "name": "ipython",
    "version": 3
   },
   "file_extension": ".py",
   "mimetype": "text/x-python",
   "name": "python",
   "nbconvert_exporter": "python",
   "pygments_lexer": "ipython3",
   "version": "3.12.3"
  }
 },
 "nbformat": 4,
 "nbformat_minor": 2
}
