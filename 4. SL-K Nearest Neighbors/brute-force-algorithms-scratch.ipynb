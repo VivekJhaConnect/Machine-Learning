{
 "cells": [
  {
   "cell_type": "markdown",
   "metadata": {},
   "source": [
    "Brute Force String Matching"
   ]
  },
  {
   "cell_type": "code",
   "execution_count": 1,
   "metadata": {},
   "outputs": [
    {
     "name": "stdout",
     "output_type": "stream",
     "text": [
      "Pattern found at index: 10\n"
     ]
    }
   ],
   "source": [
    "def brute_force_string_match(text, pattern):\n",
    "    n = len(text)\n",
    "    m = len(pattern)\n",
    "    \n",
    "    for i in range(n - m + 1):\n",
    "        j = 0\n",
    "        while j < m and text[i + j] == pattern[j]:\n",
    "            j += 1\n",
    "        if j == m:\n",
    "            return i  # Pattern found at index i\n",
    "    return -1  # Pattern not found\n",
    "\n",
    "# Example usage\n",
    "text = \"this is a simple example\"\n",
    "pattern = \"simple\"\n",
    "result = brute_force_string_match(text, pattern)\n",
    "print(f\"Pattern found at index: {result}\")\n"
   ]
  },
  {
   "cell_type": "markdown",
   "metadata": {},
   "source": [
    "Brute Force Subset Sum"
   ]
  },
  {
   "cell_type": "code",
   "execution_count": 2,
   "metadata": {},
   "outputs": [
    {
     "name": "stdout",
     "output_type": "stream",
     "text": [
      "Subsets with sum 9: [[3, 4, 2], [4, 5]]\n"
     ]
    }
   ],
   "source": [
    "def brute_force_subset_sum(arr, target_sum):\n",
    "    n = len(arr)\n",
    "    subsets = []\n",
    "    \n",
    "    def find_subsets(current_subset, index):\n",
    "        if sum(current_subset) == target_sum:\n",
    "            subsets.append(current_subset)\n",
    "            return\n",
    "        if index >= n:\n",
    "            return\n",
    "        \n",
    "        find_subsets(current_subset + [arr[index]], index + 1)\n",
    "        find_subsets(current_subset, index + 1)\n",
    "    \n",
    "    find_subsets([], 0)\n",
    "    return subsets\n",
    "\n",
    "# Example usage\n",
    "arr = [3, 34, 4, 12, 5, 2]\n",
    "target_sum = 9\n",
    "result = brute_force_subset_sum(arr, target_sum)\n",
    "print(f\"Subsets with sum {target_sum}: {result}\")\n"
   ]
  },
  {
   "cell_type": "markdown",
   "metadata": {},
   "source": [
    "Brute Force Traveling Salesman Problem (TSP)"
   ]
  },
  {
   "cell_type": "code",
   "execution_count": 3,
   "metadata": {},
   "outputs": [
    {
     "name": "stdout",
     "output_type": "stream",
     "text": [
      "Shortest path: (0, 1, 3, 2) with distance: 80\n"
     ]
    }
   ],
   "source": [
    "from itertools import permutations\n",
    "\n",
    "def brute_force_tsp(distances):\n",
    "    n = len(distances)\n",
    "    cities = list(range(n))\n",
    "    shortest_path = None\n",
    "    min_distance = float('inf')\n",
    "    \n",
    "    for perm in permutations(cities):\n",
    "        current_distance = 0\n",
    "        for i in range(n - 1):\n",
    "            current_distance += distances[perm[i]][perm[i + 1]]\n",
    "        current_distance += distances[perm[-1]][perm[0]]  # Return to starting city\n",
    "        \n",
    "        if current_distance < min_distance:\n",
    "            min_distance = current_distance\n",
    "            shortest_path = perm\n",
    "    \n",
    "    return shortest_path, min_distance\n",
    "\n",
    "# Example usage\n",
    "distances = [\n",
    "    [0, 10, 15, 20],\n",
    "    [10, 0, 35, 25],\n",
    "    [15, 35, 0, 30],\n",
    "    [20, 25, 30, 0]\n",
    "]\n",
    "path, distance = brute_force_tsp(distances)\n",
    "print(f\"Shortest path: {path} with distance: {distance}\")\n"
   ]
  },
  {
   "cell_type": "markdown",
   "metadata": {},
   "source": [
    "Brute Force Knapsack Problem"
   ]
  },
  {
   "cell_type": "code",
   "execution_count": 4,
   "metadata": {},
   "outputs": [
    {
     "name": "stdout",
     "output_type": "stream",
     "text": [
      "Best combination: [0, 1] with value: 7\n"
     ]
    }
   ],
   "source": [
    "def brute_force_knapsack(weights, values, capacity):\n",
    "    n = len(weights)\n",
    "    max_value = 0\n",
    "    best_combination = []\n",
    "\n",
    "    for i in range(1 << n):\n",
    "        current_weight = 0\n",
    "        current_value = 0\n",
    "        combination = []\n",
    "\n",
    "        for j in range(n):\n",
    "            if i & (1 << j):\n",
    "                current_weight += weights[j]\n",
    "                current_value += values[j]\n",
    "                combination.append(j)\n",
    "\n",
    "        if current_weight <= capacity and current_value > max_value:\n",
    "            max_value = current_value\n",
    "            best_combination = combination\n",
    "\n",
    "    return best_combination, max_value\n",
    "\n",
    "# Example usage\n",
    "weights = [2, 3, 4, 5]\n",
    "values = [3, 4, 5, 6]\n",
    "capacity = 5\n",
    "combination, max_value = brute_force_knapsack(weights, values, capacity)\n",
    "print(f\"Best combination: {combination} with value: {max_value}\")\n"
   ]
  }
 ],
 "metadata": {
  "kernelspec": {
   "display_name": "env",
   "language": "python",
   "name": "python3"
  },
  "language_info": {
   "codemirror_mode": {
    "name": "ipython",
    "version": 3
   },
   "file_extension": ".py",
   "mimetype": "text/x-python",
   "name": "python",
   "nbconvert_exporter": "python",
   "pygments_lexer": "ipython3",
   "version": "3.12.3"
  }
 },
 "nbformat": 4,
 "nbformat_minor": 2
}
